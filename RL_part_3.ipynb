{
  "cells": [
    {
      "cell_type": "markdown",
      "metadata": {
        "id": "pYs6LMEbNqoQ"
      },
      "source": [
        "# RL coursework, part III (25 pts total)\n",
        "---\n",
        "\n",
        "**Name:** Enric Balaguer Rodon\n",
        "\n",
        "**SN:**\n",
        "\n",
        "---\n",
        "\n",
        "**Due date:** *April 11th, 2024*\n",
        "\n",
        "---\n",
        "\n",
        "Standard UCL policy (including grade deductions) automatically applies for any late submissions.\n",
        "\n",
        "## How to submit\n",
        "\n",
        "When you have completed the exercises and everything has finished running, click on 'File' in the menu-bar and then 'Download .ipynb'. This file must be submitted to Moodle named as **`<studentnumber>_RL_part3.ipynb`** before the deadline above, where `<studentnumber>` is your student number."
      ]
    },
    {
      "cell_type": "markdown",
      "metadata": {
        "id": "rNuohp44N00i"
      },
      "source": [
        "# The Assignment\n",
        "\n",
        "### Objectives\n",
        "\n",
        "You will be guided through the implementation of a full deep reinforcement learning agent."
      ]
    },
    {
      "cell_type": "markdown",
      "metadata": {
        "id": "nVBcO5mAV9Ow"
      },
      "source": [
        "## Setup\n",
        "\n",
        "Run all the cells in this section, but do not modify them."
      ]
    },
    {
      "cell_type": "markdown",
      "metadata": {
        "id": "Z1p0fpbxQLyn"
      },
      "source": [
        "## Imports"
      ]
    },
    {
      "cell_type": "code",
      "execution_count": 288,
      "metadata": {
        "id": "Ps5OnkPmDbMX"
      },
      "outputs": [],
      "source": [
        "import matplotlib.pyplot as plt\n",
        "import numpy as np\n",
        "\n",
        "np.set_printoptions(precision=3, suppress=1)"
      ]
    },
    {
      "cell_type": "markdown",
      "metadata": {
        "id": "3lpweIqAWBX3"
      },
      "source": [
        "## Helpers"
      ]
    },
    {
      "cell_type": "markdown",
      "metadata": {
        "id": "iIRC73HLq6VH"
      },
      "source": [
        "# A) Actor-critics\n",
        "\n",
        "You are going to implement an Actor-critic agent that updates a policy parametrised as a deep neural network.\n",
        "\n",
        "The agent learns online from a single stream of experience, updating the parametes of its policy after each transition in the environment."
      ]
    },
    {
      "cell_type": "markdown",
      "metadata": {
        "id": "KV03Q3MpveUM"
      },
      "source": [
        "### Install packages"
      ]
    },
    {
      "cell_type": "code",
      "execution_count": 289,
      "metadata": {
        "id": "wc-kqp3tveUT"
      },
      "outputs": [],
      "source": [
        "# !pip install -U jaxlib==0.4.23\n",
        "# !git clone https://github.com/deepmind/bsuite.git\n",
        "# !pip install bsuite/"
      ]
    },
    {
      "cell_type": "markdown",
      "metadata": {
        "id": "r_pTfi5dSFX5"
      },
      "source": [
        "### Imports"
      ]
    },
    {
      "cell_type": "code",
      "execution_count": 290,
      "metadata": {
        "id": "huyKrYpvSHSu"
      },
      "outputs": [],
      "source": [
        "from bsuite.environments import catch\n",
        "\n",
        "# import jax\n",
        "# import jax.numpy as jnp\n",
        "import jaxlib as jax\n",
        "import jax\n",
        "# import jumpy as jnp\n",
        "import jax.numpy as jnp"
      ]
    },
    {
      "cell_type": "markdown",
      "metadata": {
        "id": "M6kEki4XHbPy"
      },
      "source": [
        "### Plotting"
      ]
    },
    {
      "cell_type": "code",
      "execution_count": 291,
      "metadata": {
        "id": "EYdWwRrbHbcl"
      },
      "outputs": [],
      "source": [
        "def plot_learning_curve(list_of_episode_returns):\n",
        "  \"\"\"Plot the learning curve.\"\"\"\n",
        "  plt.figure(figsize=(7, 5))\n",
        "\n",
        "  def moving_average(x, w):\n",
        "    return np.convolve(x, np.ones(w), 'valid') / w\n",
        "\n",
        "  smoothed_returns = moving_average(list_of_episode_returns, 30)\n",
        "  plt.plot(smoothed_returns)\n",
        "\n",
        "  plt.xlabel('Average episode returns')\n",
        "  plt.xlabel('Number of episodes')\n",
        "\n",
        "  ax = plt.gca()\n",
        "  ax.spines['left'].set_visible(True)\n",
        "  ax.spines['bottom'].set_visible(True)\n",
        "  ax.spines['right'].set_visible(False)\n",
        "  ax.spines['top'].set_visible(False)\n",
        "  ax.xaxis.set_ticks_position('bottom')\n",
        "  ax.yaxis.set_ticks_position('left')"
      ]
    },
    {
      "cell_type": "markdown",
      "metadata": {
        "id": "Xtlrr5d2p7cS"
      },
      "source": [
        "### Neural networks\n",
        "\n",
        "You will use JAX to define a network parametrising:\n",
        "\n",
        "* The values of each state $v(s)$.\n",
        "* The action preferences in each state $\\{p_i(s)\\}_{i\\in\\{1, ..., |A|\\}}$ (you can think of and implement the preferences $\\mathbf{p}(s)$ as a vector output with $|A|$ elements).\n",
        "\n",
        "There are many neural network libraries available that can be used to create networks in jax.  But here we will keep things relatively simple and just define our own network.\n",
        "\n",
        "Specifically, we will define a `network` function returns a **scalar** value `v` and a **vector** of preferences `p`, which will define the policy of the agent.  This function will take as its inputs a dictionary `params` of parameters that we will update, which will contain all the parameters of the network.\n",
        "\n",
        "A lot of the boilerplate code has been written for you.  You will have to implement some functions as indicated in the questions below."
      ]
    },
    {
      "cell_type": "markdown",
      "metadata": {
        "id": "Gj1nsUYuOoe1"
      },
      "source": [
        "### Q1 [4 marks]\n",
        "\n",
        "Create the parameters and define the forward pass of the neural network. The `network` function must look as follows when we call it:\n",
        "`v, p = network(params, observation)`\n",
        "\n",
        "The network should be implemented as follows:\n",
        "* The inputs are a dictionary of parameters `params`, and a tensor (a `jnp.array`) called `observation`.\n",
        "* We reshape the observation into a flat vector `flat_observation`.\n",
        "* We compute a hidden representation\n",
        "`h = relu(flat_observation.dot(w) + b)`, where the weights and biases are given in the input dictionary as `w = params['w']` and `v = params['b']` (and analogously for all other parameters), and where `relu(x)` is a 'rectifier linear unit', which computes $\\max(x, 0)$ elementwise (you can use `jax.nn.relu(x)` to implement this, if you want).\n",
        "* We compute a vector of action preferences as a linear function of `h`, such that `p = h.dot(w_p) + b_p`.\n",
        "* Similarly, we compute a scalar state value `v` as a linear function of `h`.\n",
        "* Finally, we return the scalar value and vector preferences as a tuple.\n",
        "\n",
        "Further, make sure that:\n",
        "* The hidden representation should be a vector of 50 elements.\n",
        "* The action preferences should be a vector of 3 elements (one per each available action).\n",
        "* The value should be a scalar (not a vector with one element).\n",
        "* All parameters should be initialised randomly as follows:\n",
        "```\n",
        "rng_key, param_key = jax.random.split(rng_key)\n",
        "parameter = jax.random.truncated_normal(param_key, -1, 1, shape)\n",
        "```\n",
        "where `shape` is the relevant shape for this `parameter` (e.g., `parameter` is `w` or `b`, etc.).  The first line is important: it 'splits' the random key into a temporary random key `param_key` that should **only** be used for this parameter, and a new `rng_key` that can be split again later for the next parameters, etc.\n"
      ]
    },
    {
      "cell_type": "code",
      "execution_count": 292,
      "metadata": {
        "id": "dF-6IWP30nip"
      },
      "outputs": [],
      "source": [
        "def create_parameters(rng_key, observation):\n",
        "  # Returns a dictionary with the desired parameters for the network\n",
        "  params = {}\n",
        "\n",
        "  #1st and only hidden layer parameters\n",
        "  rng_key, param_key = jax.random.split(rng_key)\n",
        "  params['w'] = jax.random.truncated_normal(param_key, -1, 1, (jnp.size(observation), 50))\n",
        "\n",
        "  rng_key, bias_key = jax.random.split(rng_key)\n",
        "  params['b'] = jax.random.truncated_normal(bias_key, -1, 1, (50,))\n",
        "\n",
        "  #Output layer parameters\n",
        "  #Action preference parameters\n",
        "  rng_key, param_key = jax.random.split(rng_key)\n",
        "  params['w_p'] = jax.random.truncated_normal(param_key, -1, 1, (50, 3))\n",
        "\n",
        "  rng_key, bias_key = jax.random.split(rng_key)\n",
        "  params['b_p'] = jax.random.truncated_normal(bias_key, -1, 1, (3,))\n",
        "\n",
        "  #Value function parameters\n",
        "  rng_key, param_key = jax.random.split(rng_key)\n",
        "  params['w_v'] = jax.random.truncated_normal(param_key, -1, 1, (50, 1))\n",
        "\n",
        "  rng_key, bias_key = jax.random.split(rng_key)\n",
        "  params['b_v'] = jax.random.truncated_normal(bias_key, -1, 1, (1,))\n",
        "\n",
        "  return params"
      ]
    },
    {
      "cell_type": "code",
      "execution_count": 293,
      "metadata": {
        "id": "vRBP0xjtQvTi"
      },
      "outputs": [],
      "source": [
        "def network(params, observation):\n",
        "  #Flatten the observation as desired\n",
        "  flat_observation = observation.reshape(-1,)\n",
        "  \n",
        "  #First and only hidden layer\n",
        "  h1 = jax.nn.relu((flat_observation @ params[\"w\"]) + params[\"b\"])\n",
        "\n",
        "  #Output layer\n",
        "  p = (h1 @ params[\"w_p\"]) + params[\"b_p\"]\n",
        "  v = ((h1 @ params[\"w_v\"]) + params[\"b_v\"]).squeeze()\n",
        "\n",
        "  return v, p"
      ]
    },
    {
      "cell_type": "markdown",
      "metadata": {
        "id": "9ImJUgzFosvD"
      },
      "source": [
        "### Choosing actions\n",
        "\n",
        "A critical component of an actor-critic agent is a (stochastic) policy, mapping `observations` to `actions`.\n",
        "\n",
        "In deep RL, this mapping is conventionally parametrised by a deep neural network."
      ]
    },
    {
      "cell_type": "markdown",
      "metadata": {
        "id": "1MVXNWwlYW24"
      },
      "source": [
        "Here we provide a softmax policy parametrised by the neural network above (i.e., using the `network` function). The function has signature `action = softmax_policy(parameters, key, obs)`, taking the current network parameters `parameters`, a JAX random `key` and the current `observation`.\n",
        "\n",
        "### Softmax definition"
      ]
    },
    {
      "cell_type": "code",
      "execution_count": 294,
      "metadata": {
        "id": "qSOO10b20yD5"
      },
      "outputs": [],
      "source": [
        "#DO NOT MODIFY\n",
        "# Functions to perform random sampling in JAX (e.g. those in `jax.random`) take\n",
        "# a random key as input, and they are deterministic function of such a key. In\n",
        "# general, in a JAX program you need to use the `jax.random.split` function to\n",
        "# generate new random keys before every new sampling. The run loop that runs the\n",
        "# experiment later on will split and provides the keys for the function defined\n",
        "# here.\n",
        "\n",
        "# Note that we 'jit' the function.  This means the function will be compiled,\n",
        "# which will make it run faster. This does also suppress print statements, so if\n",
        "# you are debugging and want to print please comment out the `@jax.jit` line,\n",
        "# but don't forget to put it back before running the experiment below, and\n",
        "# especially before submitting your assignment.\n",
        "\n",
        "@jax.jit\n",
        "def softmax_policy(parameters, key, obs):\n",
        "  \"\"\"Sample action from a softmax policy.\"\"\"\n",
        "  _, p = network(parameters, obs)\n",
        "  return jax.random.categorical(key, p)"
      ]
    },
    {
      "cell_type": "markdown",
      "metadata": {
        "id": "iMYcb7Y9krnT"
      },
      "source": [
        "### Learning values and policies\n",
        "\n",
        "An actor-critic agent requires to update the parameters of the network so as to simultaneously improve the value predictions and the policy.\n",
        "\n",
        "In the next section you will define the gradient updates for each of these two components."
      ]
    },
    {
      "cell_type": "markdown",
      "metadata": {
        "id": "GsIlpmNEk5fv"
      },
      "source": [
        "### Q3 [4 marks]\n",
        "\n",
        "Implement a function to compute a stochastic estimate of the policy gradient from a 1 step transition in the environment.\n",
        "\n",
        "* You will use $R_{t+1} + \\gamma v(S_{t+1})$ as an estimate of $q_{\\pi}(S_t, A_t)$\n",
        "* You will use $v(S_{t})$ as a baseline to reduce the variance of the updates.\n",
        "\n",
        "In the code we actually use names `obs_tm1`, `a_tm1` (where `tm1` stands for '$t$ minus one') for the observation and action at time $t-1$, and `r_t`, `discount_t`, `obs_t` for the reward, discount, and observation at time $t$. So the code is offset a single time step in terms of naming as compared to the typical mathematical formulations.  This is just a naming convention, and should not impact the algorithm.\n",
        "\n",
        "The function below must therefore have signature `grads = policy_gradient(parameters, obs_tm1, a_tm1, r_t, discount_t, obs_t)`.\n",
        "* Where the inputs are:\n",
        "  * `parameters`: the parameters of the network,\n",
        "  * an observation `obs_tm1`\n",
        "  * the action `a_tm1` selected after observing `obs_tm1`,\n",
        "  * the resulting reward `r_t` and discount `discount_t` and observation `obs_t`, as obsesrved after taking action `a_tm1`.\n",
        "\n",
        "This function should return a stochastic estimate of the policy gradient, where `grads` has the same structure as `parameters` and contains an estimate of the gradient of the expected episodic return wrt to each parameter.\n",
        "\n",
        "The policy-gradient estimate should use bootstrapping, using the value estimates that can be gotten using the saame `parameters` as used for the policy.  So the output of this function can be used in a one-step actor-critic update."
      ]
    },
    {
      "cell_type": "markdown",
      "metadata": {
        "id": "02RJAKiX85Wx"
      },
      "source": [
        "### Jax hint:\n",
        "Note that you can use `jax.grad(f)` to get the gradient of any (pure) jax function with a scalar output.  For instance, consider:\n",
        "\n",
        "        def f(w, x, y):\n",
        "          # w, x, and y are all vectors\n",
        "          return jnp.sum(w*x + y)\n",
        "\n",
        "        df = jax.grad(f)\n",
        "    \n",
        "then calling `df(w, x, y)` will give the gradient of the output of `f(w, x, y)` with respect to the first input argument --- here called `w`. You can use this new function `df` as just a normal function. For instance, it can be called from other functions, as usual.\n",
        "\n",
        "Run the cell below to see a concrete example in action.  Note that `df(w, x, y)` in the example below evaluates to the same values as `x`.  This is correct, because the gradient of `f` with respect to `w` is indeed `x`."
      ]
    },
    {
      "cell_type": "code",
      "execution_count": 295,
      "metadata": {
        "id": "t1TjveqqGnNA"
      },
      "outputs": [
        {
          "name": "stdout",
          "output_type": "stream",
          "text": [
            "f(w, x, y):  31.0\n",
            "df(w, x, y): [3. 5.]\n"
          ]
        }
      ],
      "source": [
        "def f(w, x, y):\n",
        "  return jnp.sum(w*x + y)\n",
        "\n",
        "df = jax.grad(f)\n",
        "\n",
        "w = jnp.array([1., 2.])\n",
        "x = jnp.array([3., 5.])\n",
        "y = jnp.array([7., 11.])\n",
        "\n",
        "print(f'f(w, x, y):  {f(w, x, y)}')\n",
        "print(f'df(w, x, y): {df(w, x, y)}')"
      ]
    },
    {
      "cell_type": "markdown",
      "metadata": {
        "id": "wngNEiwrQeF0"
      },
      "source": [
        "### Jax hint:\n",
        "You network will have a dictionary `params` as input.  Suppose you have a function that computes the output of a network, and then uses this to do some stuff, and you want the gradient of that new function.  That is, suppose your code looks something like this:\n",
        "\n",
        "        # Define network\n",
        "        def network(params, ...):\n",
        "          ...\n",
        "\n",
        "        # Define a new function\n",
        "        def function(params, x, y, z, ...):\n",
        "           ...\n",
        "           output = network(params, x)\n",
        "           ...\n",
        "           return ...(some function of output)...        \n",
        "\n",
        "Now,\n",
        "```\n",
        "grads = jax.grad(function)(params, x, y, z, ...)\n",
        "```\n",
        "will give the gradients of `function` with respect to the first input argument, `params`.  These gradients `grads` will have exactly the same shape as the input argment `params`.\n",
        "\n",
        "But note that we cannot do things like `params + grads`, because `params` and `grads` are both dictionaries, not just `jnp.array`s.  Instead, we could explicitly traverse the dictionary.  But it is perhaps even easier to use in-built tree utils in Jax.  Specifically, the util `jax.tree_map(f, x, y)` applies function f to all the elements in `x` and `y`.\n",
        "\n",
        "For instance, to add the gradients to the parameters, we can use:\n",
        "```\n",
        "def add_gradient_to_weight(w, g, learning_rate=0.1):\n",
        "  return w + learning_rate * g\n",
        "new_params = jax.tree_map(add_gradient_to_weight, params, grads)\n",
        "```\n",
        "The above snippet would apply the function `add_gradient_to_weight` to the elements in `params` and `grads`, here adding each element in `grads` to each corresponding element in `weights` (in this case using the default learning rate `learning_rate=0.1`, as specified in the function definition).\n"
      ]
    },
    {
      "cell_type": "code",
      "execution_count": 296,
      "metadata": {
        "id": "AHLGjy8he6vh"
      },
      "outputs": [],
      "source": [
        "def policy_gradient(parameters, obs_tm1, a_tm1, r_t, discount_t, obs_t):\n",
        "  v_predicted_tm1, _ = network(parameters, observation=obs_tm1)\n",
        "  v_predicted_t, _ = network(parameters, observation=obs_t)\n",
        "  \n",
        "  delta = (r_t + (discount_t*v_predicted_t) - v_predicted_tm1)\n",
        "\n",
        "  def policy_grad(parameters=parameters):\n",
        "    _, a_probs_predicted = network(parameters, observation=obs_tm1)\n",
        "    logged_grad = jnp.log((jax.nn.softmax(a_probs_predicted))[a_tm1])\n",
        "    \n",
        "    return delta*logged_grad\n",
        "  \n",
        "  return jax.grad(policy_grad)(parameters)"
      ]
    },
    {
      "cell_type": "markdown",
      "metadata": {
        "id": "5XgjefrBlIGN"
      },
      "source": [
        "### Q4 [4 marks]\n",
        "\n",
        "Implement a function to compute a TD(0) update for the parameters of the value function.\n",
        "\n",
        "It must have signature `td_update = value_update(parameters, obs_tm1, a_tm1, r_t, discount_t, obs_t)`.\n",
        "* Where the inputs are:\n",
        "  * the current parameters `parameters` of the network,\n",
        "  * an observation `obs_tm1`\n",
        "  * the action `a_tm1` selected after observing `obs_tm1`,\n",
        "  * the resulting reward `r_t` and environment discount `discount_t`\n",
        "  * and the following observation `obs_t`\n",
        "* Returns a stochastic TD(0) semi-gradient update: `td_update` has the same structure as `parameters`. This contains a stochastic estimate of the negative semi-gradient of the expected value prediction loss: a TD(0) update."
      ]
    },
    {
      "cell_type": "code",
      "execution_count": 297,
      "metadata": {
        "id": "CAONu72iTpzx"
      },
      "outputs": [],
      "source": [
        "def value_update(parameters, obs_tm1, a_tm1, r_t, discount_t, obs_t):\n",
        "  v_predicted_t, _ = network(parameters, observation=obs_t)\n",
        "  v_predicted_tm1, _ = network(parameters, observation=obs_tm1)\n",
        "  error = r_t + (discount_t*v_predicted_t) - v_predicted_tm1\n",
        "\n",
        "  def value_grad(parameters=parameters):\n",
        "    v_predicted_tm1, _ = network(parameters, observation=obs_tm1)\n",
        "    return error*v_predicted_tm1\n",
        "  \n",
        "  return jax.grad(value_grad)(parameters)\n"
      ]
    },
    {
      "cell_type": "markdown",
      "metadata": {
        "id": "jAXgLZg8mfMd"
      },
      "source": [
        "### Updating shared parameters\n",
        "\n",
        "The policy gradient identifies the direction of change in the parameters that most steeply improve the policy.\n",
        "The value update identifies the direction of change in the parameters that improves the value predictions (according to TD).\n",
        "\n",
        "However, the value and policy share some of the parameters of the network.  How do we combine the two gradient updates?\n",
        "\n",
        "In this assignment, we simply sum the policy and value components.\n",
        "The function that combines the two gradients is implemented for you in the cell below.  Note the use of `jax.tree_map` to facilitate adding the structured parameters."
      ]
    },
    {
      "cell_type": "code",
      "execution_count": 298,
      "metadata": {
        "id": "uhKCLe8jjkdZ"
      },
      "outputs": [],
      "source": [
        "@jax.jit\n",
        "def compute_gradient(parameters, obs_tm1, a_tm1, r_t, discount_t, obs_t):\n",
        "  pgrads = policy_gradient(parameters, obs_tm1, a_tm1, r_t, discount_t, obs_t)\n",
        "  td_update = value_update(parameters, obs_tm1, a_tm1, r_t, discount_t, obs_t)\n",
        "  return jax.tree_map(lambda pg, td: pg + td, pgrads, td_update)"
      ]
    },
    {
      "cell_type": "markdown",
      "metadata": {
        "id": "tYaVb6GcpCRe"
      },
      "source": [
        "### Optimisation\n",
        "\n",
        "In deep learning, gradient updates are typically rescaled and modifed to avoid taking too large a step on a single update (e.g., due to large variance), and to facilitate the optimisation process (it turns out raw stochatic gradients are often not the most effective for updating neural networks).\n",
        "\n",
        "For instance given a candidate gradient update $\\nabla$ we may update our parameters $\\theta$ by;\n",
        "$$\\Delta \\theta = \\theta + \\alpha * \\nabla\\,,$$\n",
        "where $\\alpha$ is a small number between 0 and 1 (e.g., $\\alpha=0.01$ or $\\alpha=0.001$), referred to as `step_size` or `learning_rate`\n",
        "\n",
        "The gradients with respect to each weight of a neural network may however have very different magnitudes. This can make it hard to set a suitable learning rate $\\alpha$.\n",
        "\n",
        "In deep learning, and deep RL, we typically use adaptive learning rates, for instance by rescaling each component of the gradient using statistics tracking the typical size of the updates to that weight. Then the entire update is rescaled using a global `learning_rate` $\\alpha$.\n"
      ]
    },
    {
      "cell_type": "markdown",
      "metadata": {
        "id": "hbFePWfApaMU"
      },
      "source": [
        "### Q5 [2 marks]\n",
        "\n",
        "A popular approach to adaptive gradient rescaling was introduced by the `Adam` algorithm.\n",
        "This algorithm implements the following procedure before applying each update:\n",
        "* Increase an update counter $k \\gets k+1$ (starting at k=0 before any updates),\n",
        "* Update the first moment of each gradient component $\\mu \\gets (1 - \\beta_1) g + \\beta_1 \\mu$ where $g$ is the latest stochastic gradient, where $\\beta_1$ is a parameter for the moving average.\n",
        "* Update the second moment of each gradient component $\\nu_i = (1 - \\beta_2) g_i ^ 2 + \\beta_2 \\nu_i $ where $g$ is the latest gradient update, where $\\beta_2$ is a parameter for the moving average.\n",
        "* Use the following update to update the weights:\n",
        "$$\\Delta w = \\alpha \\frac{\\mu / (1 - \\beta_1 ^ {k})}{\\epsilon + \\sqrt{\\nu / (1 - \\beta_1 ^ {k})}}$$\n",
        "* $\\alpha$ is a global `learning rate`\n",
        "* $\\beta_1$ and $\\beta_2$ define a soft horizon for the per-weight statistics.\n",
        "* $\\epsilon$ makes the rescaling more robust to numerical issues.\n",
        "\n",
        "(See [Kingma et al, 2014](https://arxiv.org/abs/1412.6980) for details, if you are interested.)\n",
        "\n",
        "In the next cell define a pair of functions (`opt_init`, and `opt_update` --- in each case `opt` is short for 'optimiser'), where:\n",
        "\n",
        "The `opt_init` function has signature `opt_state = opt_init(parameters)`.\n",
        "* Takes the network parameters as inputs\n",
        "* Initialises an `optimiser state` holding the per weight statistics.\n",
        "\n",
        "The `opt_update` function has signature `updates, opt_state = opt_update(grads, opt_state)`.\n",
        "* Takes a `gradient` and an `optimisers state`,\n",
        "* and returns the transformed gradient and the updated `optimiser state`.\n",
        "\n",
        "The optimiser state `opt_state` should contain:\n",
        "* The first-order momentum $\\mu$, as updated with a moving-average-parameter $\\beta_1$ which we call `b1` in the code.\n",
        "* The first-order momentum $\\nu$, as updated with a moving-average-parameter $\\beta_2$ which we call `b2` in the code.\n",
        "\n",
        "We will ignore the initial correction Adam typically uses, and will instead use the simpler transformation:\n",
        "$$\\Delta w = \\alpha \\frac{\\mu}{\\epsilon + \\sqrt{\\nu}}$$\n",
        "\n",
        "Set the algorithm's hyper-parameters to $\\alpha=0.003$, $\\beta_1=.9$ and $\\beta_2=.999$, $\\epsilon=10^{-4}$.  You are allowed to hard-code these in, or make them configurable (e.g., pass them as additional arguments to `opt_update`, which is better if you want to play around, of course).  Set the initial moving averages to zero for $\\mu$ and one for $\\nu$.  E.g.,\n",
        "\n",
        "        mu = jax.tree_map(jnp.zeros_like, parameters)"
      ]
    },
    {
      "cell_type": "code",
      "execution_count": 299,
      "metadata": {
        "id": "017XRA_BpbZx"
      },
      "outputs": [],
      "source": [
        "def opt_init(parameters):\n",
        "  opt_state = {\n",
        "    \"lr\" : 0.003,\n",
        "    \"betas\" : [0.9, 0.999],\n",
        "    \"ep\" : 1e-4,\n",
        "    # \"mu\" : jnp.zeros_like(parameters) --> Need to map it to the compute graph for backprop\n",
        "    # \"nu\" : jnp.zeros_like(parameters)\n",
        "    \"mu\" : jax.tree_map(jnp.zeros_like, parameters),\n",
        "    \"nu\" : jax.tree_map(jnp.zeros_like, parameters)\n",
        "  }\n",
        "\n",
        "  return opt_state\n",
        "\n",
        "def opt_update(grads, opt_state):\n",
        "  #\"Unpack optimiser state\"\n",
        "  lr = opt_state[\"lr\"]\n",
        "  b1, b2 = opt_state[\"betas\"]\n",
        "  ep = opt_state[\"ep\"]\n",
        "  mu = opt_state[\"mu\"]\n",
        "  nu = opt_state[\"nu\"]\n",
        "\n",
        "  #Compute moving averages and update opt_state\n",
        "  # mu = ((1-b1)*grads) + (b1*mu) --> Same here\n",
        "  # nu = ((1-b2)*jnp.square(grads)) + (b2*nu)\n",
        "  mu_new = jax.tree_map(lambda mu_, gradients: ((1-b1)*gradients) + (b1*mu_), mu, grads)\n",
        "  nu_new = jax.tree_map(lambda nu_, gradients: ((1-b2)*jnp.square(gradients)) + (b2*nu_), nu, grads)\n",
        "\n",
        "  opt_state[\"mu\"] = mu_new\n",
        "  opt_state[\"nu\"] = nu_new\n",
        "\n",
        "  #Compute updates\n",
        "  # updates = lr*mu/(ep + jnp.sqrt(nu))\n",
        "  updates = jax.tree_map(lambda mu_, nu_: lr*mu_/(ep + jnp.sqrt(nu_)), mu, nu)\n",
        "\n",
        "  return updates, opt_state"
      ]
    },
    {
      "cell_type": "markdown",
      "metadata": {
        "id": "DczWvZfNSnTj"
      },
      "source": [
        "### Run experiments\n",
        "\n",
        "Run the cell below to show the performance of the resulting agent.\n",
        "\n",
        "You may also use this section for debugging your implementations.\n",
        "\n",
        "Note however, that most functions are `jitted` for performance,\n",
        "* either using the `@jax.jit` decorator in the function definition\n",
        "* or calling explicitly `fn = jax.jit(fn)`\n",
        "\n",
        "When jitting, the code is compiled on the first time the function is executed\n",
        "* and execution is much faster on subsequent calls.\n",
        "* a notable side effect is that print statements in a jitted function will only execute on the first execution of the function.\n",
        "* to drop into a debugger or print on each function execution you will have to disable the `@jax.jit` annotations and jax.jit calls."
      ]
    },
    {
      "cell_type": "code",
      "execution_count": 300,
      "metadata": {
        "id": "Fz837XTkLxE8"
      },
      "outputs": [
        {
          "name": "stdout",
          "output_type": "stream",
          "text": [
            "Training agent for 10000 episodes...\n"
          ]
        },
        {
          "name": "stderr",
          "output_type": "stream",
          "text": [
            "C:\\Users\\enric\\AppData\\Local\\Temp\\ipykernel_23080\\3367669033.py:8: DeprecationWarning: jax.tree_map is deprecated: use jax.tree.map (jax v0.4.25 or newer) or jax.tree_util.tree_map (any JAX version).\n",
            "  \"mu\" : jax.tree_map(jnp.zeros_like, parameters),\n",
            "C:\\Users\\enric\\AppData\\Local\\Temp\\ipykernel_23080\\3367669033.py:9: DeprecationWarning: jax.tree_map is deprecated: use jax.tree.map (jax v0.4.25 or newer) or jax.tree_util.tree_map (any JAX version).\n",
            "  \"nu\" : jax.tree_map(jnp.zeros_like, parameters)\n",
            "C:\\Users\\enric\\AppData\\Local\\Temp\\ipykernel_23080\\2734106140.py:5: DeprecationWarning: jax.tree_map is deprecated: use jax.tree.map (jax v0.4.25 or newer) or jax.tree_util.tree_map (any JAX version).\n",
            "  return jax.tree_map(lambda pg, td: pg + td, pgrads, td_update)\n",
            "C:\\Users\\enric\\AppData\\Local\\Temp\\ipykernel_23080\\3367669033.py:25: DeprecationWarning: jax.tree_map is deprecated: use jax.tree.map (jax v0.4.25 or newer) or jax.tree_util.tree_map (any JAX version).\n",
            "  mu_new = jax.tree_map(lambda mu_, gradients: ((1-b1)*gradients) + (b1*mu_), mu, grads)\n",
            "C:\\Users\\enric\\AppData\\Local\\Temp\\ipykernel_23080\\3367669033.py:26: DeprecationWarning: jax.tree_map is deprecated: use jax.tree.map (jax v0.4.25 or newer) or jax.tree_util.tree_map (any JAX version).\n",
            "  nu_new = jax.tree_map(lambda nu_, gradients: ((1-b2)*jnp.square(gradients)) + (b2*nu_), nu, grads)\n",
            "C:\\Users\\enric\\AppData\\Local\\Temp\\ipykernel_23080\\3367669033.py:33: DeprecationWarning: jax.tree_map is deprecated: use jax.tree.map (jax v0.4.25 or newer) or jax.tree_util.tree_map (any JAX version).\n",
            "  updates = jax.tree_map(lambda mu_, nu_: lr*mu_/(ep + jnp.sqrt(nu_)), mu, nu)\n",
            "C:\\Users\\enric\\AppData\\Local\\Temp\\ipykernel_23080\\3270932389.py:21: DeprecationWarning: jax.tree_map is deprecated: use jax.tree.map (jax v0.4.25 or newer) or jax.tree_util.tree_map (any JAX version).\n",
            "  return jax.tree_map(lambda p, u: p + u, params, updates)\n"
          ]
        },
        {
          "data": {
            "image/png": "[encoded data removed]",
            "text/plain": [
              "<Figure size 700x500 with 1 Axes>"
            ]
          },
          "metadata": {},
          "output_type": "display_data"
        }
      ],
      "source": [
        "# DO NOT CHANGE THIS CELL\n",
        "\n",
        "# Experiment configs.\n",
        "train_episodes = 10000\n",
        "discount_factor = .99\n",
        "\n",
        "# Create environment.\n",
        "env = catch.Catch(seed=42)\n",
        "\n",
        "# Build and initialize network.\n",
        "rng = jax.random.PRNGKey(44)\n",
        "rng, init_rng = jax.random.split(rng)\n",
        "sample_input = env.observation_spec().generate_value()\n",
        "parameters = create_parameters(init_rng, sample_input)\n",
        "\n",
        "# Initialize optimizer state.\n",
        "opt_state = opt_init(parameters)\n",
        "\n",
        "# Apply updates\n",
        "def apply_updates(params, updates):\n",
        "  return jax.tree_map(lambda p, u: p + u, params, updates)\n",
        "\n",
        "# Jit.\n",
        "opt_update = jax.jit(opt_update)\n",
        "apply_updates = jax.jit(apply_updates)\n",
        "\n",
        "print(f\"Training agent for {train_episodes} episodes...\")\n",
        "all_episode_returns = []\n",
        "\n",
        "for _ in range(train_episodes):\n",
        "  episode_return = 0.\n",
        "  timestep = env.reset()\n",
        "  obs_tm1 = timestep.observation\n",
        "\n",
        "  # Sample initial action.\n",
        "  rng, policy_rng = jax.random.split(rng)\n",
        "  a_tm1 = softmax_policy(parameters, policy_rng, obs_tm1)\n",
        "\n",
        "  while not timestep.last():\n",
        "    # Step environment.\n",
        "    new_timestep = env.step(int(a_tm1))\n",
        "\n",
        "    # Sample action from agent policy.\n",
        "    rng, policy_rng = jax.random.split(rng)\n",
        "    a_t = softmax_policy(parameters, policy_rng, new_timestep.observation)\n",
        "\n",
        "    # Update params.\n",
        "    r_t = new_timestep.reward\n",
        "    discount_t = discount_factor * new_timestep.discount\n",
        "    dJ_dtheta = compute_gradient(\n",
        "        parameters, obs_tm1, a_tm1, r_t, discount_t,\n",
        "        new_timestep.observation)\n",
        "    updates, opt_state = opt_update(dJ_dtheta, opt_state)\n",
        "    parameters = apply_updates(parameters, updates)\n",
        "\n",
        "    # Within episode book-keeping.\n",
        "    episode_return += new_timestep.reward\n",
        "    timestep = new_timestep\n",
        "    obs_tm1 = new_timestep.observation\n",
        "    a_tm1 = a_t\n",
        "\n",
        "  # Experiment results tracking.\n",
        "  all_episode_returns.append(episode_return)\n",
        "\n",
        "# Plot learning curve.\n",
        "plot_learning_curve(all_episode_returns)"
      ]
    },
    {
      "cell_type": "markdown",
      "metadata": {
        "id": "9dowFJ_l-32A"
      },
      "source": [
        "# B) An alternative update\n",
        "\n",
        "You are going to implement a different kind of agent.\n",
        "\n",
        "Like an actor-critic, it learns online from a single stream of experience, updating the parametes after each transition in the environment."
      ]
    },
    {
      "cell_type": "markdown",
      "metadata": {
        "id": "aQD0Qw8-_QJy"
      },
      "source": [
        "### Neural networks\n",
        "\n",
        "\n",
        "The agent will reuse the same neural network we defined for the actor-critic:\n",
        "* the scalar output will be trained via TD to estimate state values\n",
        "* the vector preferences `p` will be updated according to a different rule."
      ]
    },
    {
      "cell_type": "markdown",
      "metadata": {
        "id": "I6j0AIF8GhdR"
      },
      "source": [
        "### Choosing actions\n",
        "\n",
        "As in actor-critics, the (stochastic) mapping from `observations` to `actions` depends on the vector of preferences `p` from the network."
      ]
    },
    {
      "cell_type": "markdown",
      "metadata": {
        "id": "jE00LhDL_nbC"
      },
      "source": [
        "### Q6 [2 marks]\n",
        "\n",
        "The new agent's policy will have the signature `action = epsilon_greedy_policy(parameters, key, observation)`,\n",
        "* Take as inputs the current network parameters `parameters`, a JAX random `key` and the current `observation`\n",
        "* Return with probability `0.9` the greedy `action` with respect to the preferences `p`, ties must be broken at random.\n",
        "* Return an action uniformly at random with probability `0.1`"
      ]
    },
    {
      "cell_type": "code",
      "execution_count": 301,
      "metadata": {
        "id": "8IwTDROL_Lx5"
      },
      "outputs": [],
      "source": [
        "@jax.jit\n",
        "def epsilon_greedy_policy(parameters, key, observation):\n",
        "  def random_argmax(rng_key, array):\n",
        "    max_value = jnp.max(array)\n",
        "    max_mask = array == max_value  # 1s where array equals max_value, else 0s\n",
        "\n",
        "    # Since jax.random.choice does not support weights, I implement a workaround\n",
        "    # Create a cumulative sum of the mask, then generate a random number in this range\n",
        "    cumsum_mask = jnp.cumsum(max_mask)\n",
        "    total_max = cumsum_mask[-1]  # Total number of maximum values\n",
        "\n",
        "    # Generate a random index in the range [1, total_max + 1)\n",
        "    random_index = jax.random.randint(rng_key, shape=(), minval=1, maxval=total_max + 1)\n",
        "\n",
        "    # Find the first index where cumsum_mask >= random_index\n",
        "    selected_index = jnp.argmax(cumsum_mask >= random_index)\n",
        "    return selected_index\n",
        "  \n",
        "  # Decide greedy or not action first\n",
        "  rng_key, bernoulli_key = jax.random.split(key)\n",
        "  greedy_threshold = jax.random.bernoulli(bernoulli_key, p=0.9)\n",
        "\n",
        "  def greedy_path(rng_key):\n",
        "    _, p = network(parameters, observation)\n",
        "    rng_key, argmax_key = jax.random.split(rng_key)\n",
        "    return random_argmax(argmax_key, p)\n",
        "\n",
        "  def random_path(rng_key):\n",
        "    rng_key, randint_key = jax.random.split(rng_key)\n",
        "    _, p = network(parameters, observation)\n",
        "    return jax.random.randint(randint_key, shape=(), minval=0, maxval=p.shape[0])\n",
        "\n",
        "  action = jax.lax.cond(greedy_threshold, greedy_path, random_path, rng_key)\n",
        "  return action"
      ]
    },
    {
      "cell_type": "markdown",
      "metadata": {
        "id": "l1zQiRX5BfeA"
      },
      "source": [
        "### Q7 [3 marks]\n",
        "\n",
        "The parameters $w_p$ of the preferences $p_{w_p}(s, a)$ will be update according to the following gradient-based update:\n",
        "\n",
        "$$\\Delta w_p = \\alpha (R_{t+1} + \\gamma v(S_{t+1}) - p(S_{t}, A_t)) \\nabla p(S_t, A_t))$$\n",
        "\n",
        "where `v` is the state value trained by TD as in the actor critic.\n",
        "\n",
        "You musy implement this in the function `preference_gradient`, with the same signature as `policy_gradient`"
      ]
    },
    {
      "cell_type": "code",
      "execution_count": 302,
      "metadata": {
        "id": "6fQhAWXqLNt-"
      },
      "outputs": [],
      "source": [
        "def preference_gradient(parameters, obs_tm1, a_tm1, r_t, discount_t, obs_t):\n",
        "  _, p_tm1 = network(parameters, observation=obs_tm1)\n",
        "  v_predicted_t, _ = network(parameters, observation=obs_t)\n",
        "\n",
        "  delta_preference = r_t + discount_t*v_predicted_t - p_tm1[a_tm1]\n",
        "  \n",
        "  def pref_grad(parameters = parameters):\n",
        "    _, p_tm1 = network(parameters, observation=obs_tm1)\n",
        "    return p_tm1[a_tm1]\n",
        "  \n",
        "  return jax.tree_map(lambda gradients: delta_preference*gradients, jax.grad(pref_grad)(parameters))"
      ]
    },
    {
      "cell_type": "markdown",
      "metadata": {
        "id": "hz4RFKnVF8E8"
      },
      "source": [
        "### Updating shared parameters\n",
        "\n",
        "Just like in the actor critic the overall update to the parameters is a combination of two quantities:\n",
        "* the new update we defined for the vector of preferences\n",
        "* the same TD update to the scalar output that we used in the actor critic"
      ]
    },
    {
      "cell_type": "code",
      "execution_count": 303,
      "metadata": {
        "id": "QnghCzKhF-gI"
      },
      "outputs": [],
      "source": [
        "@jax.jit\n",
        "def compute_gradient(parameters, obs_tm1, a_tm1, r_t, discount_t, obs_t):\n",
        "  pgrads = preference_gradient(parameters, obs_tm1, a_tm1, r_t, discount_t, obs_t)\n",
        "  vgrads = value_update(parameters, obs_tm1, a_tm1, r_t, discount_t, obs_t)\n",
        "  return jax.tree_map(lambda pg, td: pg + td, pgrads, vgrads)"
      ]
    },
    {
      "cell_type": "markdown",
      "metadata": {
        "id": "44QBKEF4HFK8"
      },
      "source": [
        "### Optimisation\n",
        "\n",
        "The gradient updates are rescaled using the same optimiser used for the actor-critic."
      ]
    },
    {
      "cell_type": "markdown",
      "metadata": {
        "id": "dbdHQo23FJit"
      },
      "source": [
        "### Run experiments\n",
        "\n",
        "Run the cell below to show the performance of the new agent."
      ]
    },
    {
      "cell_type": "code",
      "execution_count": 304,
      "metadata": {
        "id": "ept5NG1oFLnu"
      },
      "outputs": [
        {
          "name": "stderr",
          "output_type": "stream",
          "text": [
            "C:\\Users\\enric\\AppData\\Local\\Temp\\ipykernel_23080\\3367669033.py:8: DeprecationWarning: jax.tree_map is deprecated: use jax.tree.map (jax v0.4.25 or newer) or jax.tree_util.tree_map (any JAX version).\n",
            "  \"mu\" : jax.tree_map(jnp.zeros_like, parameters),\n",
            "C:\\Users\\enric\\AppData\\Local\\Temp\\ipykernel_23080\\3367669033.py:9: DeprecationWarning: jax.tree_map is deprecated: use jax.tree.map (jax v0.4.25 or newer) or jax.tree_util.tree_map (any JAX version).\n",
            "  \"nu\" : jax.tree_map(jnp.zeros_like, parameters)\n"
          ]
        },
        {
          "name": "stdout",
          "output_type": "stream",
          "text": [
            "Training agent for 10000 episodes...\n"
          ]
        },
        {
          "name": "stderr",
          "output_type": "stream",
          "text": [
            "C:\\Users\\enric\\AppData\\Local\\Temp\\ipykernel_23080\\445958343.py:11: DeprecationWarning: jax.tree_map is deprecated: use jax.tree.map (jax v0.4.25 or newer) or jax.tree_util.tree_map (any JAX version).\n",
            "  return jax.tree_map(lambda gradients: delta_preference*gradients, jax.grad(pref_grad)(parameters))\n",
            "C:\\Users\\enric\\AppData\\Local\\Temp\\ipykernel_23080\\2854361996.py:5: DeprecationWarning: jax.tree_map is deprecated: use jax.tree.map (jax v0.4.25 or newer) or jax.tree_util.tree_map (any JAX version).\n",
            "  return jax.tree_map(lambda pg, td: pg + td, pgrads, vgrads)\n",
            "C:\\Users\\enric\\AppData\\Local\\Temp\\ipykernel_23080\\1158748531.py:21: DeprecationWarning: jax.tree_map is deprecated: use jax.tree.map (jax v0.4.25 or newer) or jax.tree_util.tree_map (any JAX version).\n",
            "  return jax.tree_map(lambda p, u: p + u, params, updates)\n"
          ]
        },
        {
          "data": {
            "image/png": "[encoded data removed]",
            "text/plain": [
              "<Figure size 700x500 with 1 Axes>"
            ]
          },
          "metadata": {},
          "output_type": "display_data"
        }
      ],
      "source": [
        "# DO NOT CHANGE THIS CELL\n",
        "\n",
        "# Experiment configs.\n",
        "train_episodes = 10000\n",
        "discount_factor = .99\n",
        "\n",
        "# Create environment.\n",
        "env = catch.Catch(seed=42)\n",
        "\n",
        "# Build and initialize network.\n",
        "rng = jax.random.PRNGKey(44)\n",
        "rng, init_rng = jax.random.split(rng)\n",
        "sample_input = env.observation_spec().generate_value()\n",
        "parameters = create_parameters(init_rng, sample_input)\n",
        "\n",
        "# Initialize optimizer state.\n",
        "opt_state = opt_init(parameters)\n",
        "\n",
        "# Apply updates\n",
        "def apply_updates(params, updates):\n",
        "  return jax.tree_map(lambda p, u: p + u, params, updates)\n",
        "\n",
        "# Jit.\n",
        "opt_update = jax.jit(opt_update)\n",
        "apply_updates = jax.jit(apply_updates)\n",
        "\n",
        "print(f\"Training agent for {train_episodes} episodes...\")\n",
        "all_episode_returns = []\n",
        "\n",
        "for _ in range(train_episodes):\n",
        "  episode_return = 0.\n",
        "  timestep = env.reset()\n",
        "  obs_tm1 = timestep.observation\n",
        "\n",
        "  # Sample initial action.\n",
        "  rng, policy_rng = jax.random.split(rng)\n",
        "  a_tm1 = epsilon_greedy_policy(parameters, policy_rng, obs_tm1)\n",
        "\n",
        "  while not timestep.last():\n",
        "    # Step environment.\n",
        "    new_timestep = env.step(int(a_tm1))\n",
        "\n",
        "    # Sample action from agent policy.\n",
        "    rng, policy_rng = jax.random.split(rng)\n",
        "    a_t = epsilon_greedy_policy(parameters, policy_rng, new_timestep.observation)\n",
        "\n",
        "    # Update params.\n",
        "    r_t = new_timestep.reward\n",
        "    discount_t = discount_factor * new_timestep.discount\n",
        "\n",
        "    dJ_dtheta = compute_gradient(\n",
        "        parameters, obs_tm1, a_tm1, r_t, discount_t,\n",
        "        new_timestep.observation)\n",
        "    updates, opt_state = opt_update(dJ_dtheta, opt_state)\n",
        "    parameters = apply_updates(parameters, updates)\n",
        "\n",
        "    # Within episode book-keeping.\n",
        "    episode_return += new_timestep.reward\n",
        "    timestep = new_timestep\n",
        "    obs_tm1 = new_timestep.observation\n",
        "    a_tm1 = a_t\n",
        "\n",
        "  # Experiment results tracking.\n",
        "  all_episode_returns.append(episode_return)\n",
        "\n",
        "# Plot learning curve.\n",
        "plot_learning_curve(all_episode_returns)"
      ]
    },
    {
      "cell_type": "markdown",
      "metadata": {
        "id": "g80tBzfsBgya"
      },
      "source": [
        "### Q8 [6 marks]\n",
        "\n",
        "[2pts]: What is the best asymptotic average return that can be achieved by the actor-critic agent described in `Part 2A)`? Can this be further improved, and if so: how? Explain your answer.\n",
        "\n",
        "> The best asymptotic average return that can be achieved by the actor-critic agent described in `Part 2A)` is the reward given when our agent successfully \"catches\" the ball in the bsuite catch environment, which appears to be a reward of +1, when I read bsuite's code. \n",
        "\\\n",
        "\\\n",
        "When looking at `Part 2A)` results, one can clearly see this behaviour being $\\textbf{almost} $ achieved by our agent after little more than 2k episodes. However, there will always be some non-zero chance of wrong actions being picked given a finite amount of steps (this might not actually be true given 32bit float accuracy, but I am referring to its theoretical behaviour), thus only achieving the best asymptotic average return of +1 when number of episodes approaches infinity.\n",
        "\n",
        "[2pts] What is the best asymptotic average return that can be achieved by the second agent described in `Part 2B)`? Can this be further improved, and if so: how? Explain your answer.\n",
        "\n",
        "> From what I could understand from bsuite's catch environment, the agent needs to move the ball left right or stay still so it falls on the paddle that is on a single tile of the last row. Supposing the greedy policy of our agent has converged to almost optimal (as mentioned above optimality only achieved when number of episodes reaches infinity), when our ball is on the penultimate row it's safe to assume that we are one action away from the paddle (given the environment has 10 rows, 5 columns and the paddle is on the last row, would be extremely unlucky to have had so many random actions that we are 2 actions or more away from the paddle on the penultimate row, thus I ignore these situations as they are negligible), however, there will always be the chance we randomly choose the wrong action, as such, the optimal average reward of +1 will never be reached by `Part 2B)` agent.\\\n",
        "\\\n",
        "Instead, the best asymptotic average return can be calculated to be:\\\n",
        "\\\n",
        "$\\rightarrow(1-\\epsilon)R_{falling-on-the-paddle} + \\epsilon((R_{falling-on-the-paddle} +2R_{missing-the-paddle})/3)$\\\n",
        "\\\n",
        "$\\rightarrow(1-\\epsilon) + \\epsilon\\frac{1-2}{3}$\\\n",
        "\\\n",
        "$\\rightarrow 0.9 - 0.1/3 $\\\n",
        "\\\n",
        "$\\rightarrow\\approx 0.867$\\\n",
        "\\\n",
        "Which we can see our agent hovering around when running the experiment for 10k steps above.\n",
        "\n",
        "[2pts] What quantity do the preferences `p` estimate in the second agent described in Part B?\n",
        "\n",
        "> Since we are using $\\epsilon$-greedy policy for Part B, preferences `p` play the same role as the estimate of action values (variable Q on the slides of Lecture 2), for each of the three actions, given a state."
      ]
    },
    {
      "cell_type": "code",
      "execution_count": null,
      "metadata": {
        "id": "0BJrDzXJxTl7"
      },
      "outputs": [],
      "source": []
    }
  ],
  "metadata": {
    "colab": {
      "name": "UCL RL CW 2024, part III",
      "private_outputs": true,
      "provenance": [],
      "toc_visible": true
    },
    "kernelspec": {
      "display_name": "Python 3",
      "name": "python3"
    },
    "language_info": {
      "codemirror_mode": {
        "name": "ipython",
        "version": 3
      },
      "file_extension": ".py",
      "mimetype": "text/x-python",
      "name": "python",
      "nbconvert_exporter": "python",
      "pygments_lexer": "ipython3",
      "version": "3.11.5"
    }
  },
  "nbformat": 4,
  "nbformat_minor": 0
}
